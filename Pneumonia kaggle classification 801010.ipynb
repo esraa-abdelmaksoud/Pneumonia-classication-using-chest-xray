{
 "cells": [
  {
   "cell_type": "code",
   "execution_count": 1,
   "metadata": {},
   "outputs": [],
   "source": [
    "import tensorflow as tf\n",
    "from tensorflow import keras\n",
    "from tensorflow.keras import layers\n",
    "# from keras import layers\n",
    "# from keras.layers import BatchNormalization\n",
    "import numpy as np\n",
    "import matplotlib.pyplot as plt\n",
    "import os\n",
    "tf.__version__\n",
    "tf.random.set_seed(123)\n",
    "os.environ['TF_CPP_MIN_LOG_LEVEL'] = '3'"
   ]
  },
  {
   "cell_type": "code",
   "execution_count": 2,
   "metadata": {},
   "outputs": [],
   "source": [
    "# Adding data paths\n",
    "parent_dir = r'/mnt/E/datasets/pneumonia_kaggle'\n",
    "train_dir = os.path.join(parent_dir,'train')\n",
    "test_dir = os.path.join(parent_dir,'test')\n",
    "val_dir = os.path.join(parent_dir,'val')\n",
    "save_dir = r'/mnt/D/Projects/Pneumonia Kaggle'"
   ]
  },
  {
   "cell_type": "code",
   "execution_count": 3,
   "metadata": {},
   "outputs": [
    {
     "name": "stdout",
     "output_type": "stream",
     "text": [
      "Normal: 743\n",
      "Pneumonia: 3433\n",
      "Difference: 2690\n"
     ]
    }
   ],
   "source": [
    "# Confirm that the data is balanced\n",
    "norm_train = os.listdir(os.path.join(train_dir, 'NORMAL'))\n",
    "pneu_train = os.listdir(os.path.join(train_dir, 'PNEUMONIA'))\n",
    "print(f\"Normal: {len(norm_train)}\")\n",
    "print(f\"Pneumonia: {len(pneu_train)}\")\n",
    "\n",
    "# The data is not balanced\n",
    "diff = len(pneu_train) - len(norm_train)\n",
    "print(f\"Difference: {diff}\")"
   ]
  },
  {
   "cell_type": "code",
   "execution_count": 4,
   "metadata": {},
   "outputs": [],
   "source": [
    "# Do augmentation and write data to disk\n",
    "# It is only used if difference between classes > 1 image\n",
    "# This is to avoid repetition while enhancing the model\n",
    "from scipy import ndimage\n",
    "import cv2\n",
    "\n",
    "# Use counter to stop when the difference between classes is zero\n",
    "if diff > 1:\n",
    "    count = diff\n",
    "\n",
    "    norm_path = os.path.join(train_dir, 'NORMAL')\n",
    "    \n",
    "\n",
    "    for im in reversed(norm_train):\n",
    "\n",
    "        if count > 0:\n",
    "            img = cv2.imread(os.path.join(norm_path, im))\n",
    "\n",
    "            # rotate by 5 degrees in both directions\n",
    "            rotated_1 = ndimage.rotate(img, 5)\n",
    "            cv2.imwrite(f\"{norm_path}/augmented_r5_{im}\", rotated_1)\n",
    "\n",
    "            rotated_2 = ndimage.rotate(img, -5)\n",
    "            cv2.imwrite(f\"{norm_path}/augmented_r-5_{im}\", rotated_2)\n",
    "\n",
    "            # Miror the image horizontally\n",
    "            flipped = cv2.flip(img, 1)\n",
    "            cv2.imwrite(f\"{norm_path}/augmented_f_{im}\", flipped)\n",
    "\n",
    "            # Crop the image by 5 and 10% for all sides\n",
    "            crop_pix = int(max([img.shape[0], img.shape[1]])*0.05)\n",
    "            crop_1 = img[crop_pix:-crop_pix, crop_pix:-crop_pix]\n",
    "            cv2.imwrite(f\"{norm_path}/augmented_c5_{im}\", crop_1)\n",
    "\n",
    "            crop_pix *= 2\n",
    "            crop_2 = img[crop_pix:-crop_pix, crop_pix:-crop_pix]\n",
    "            cv2.imwrite(f\"{norm_path}/augmented_c10_{im}\", crop_2)\n",
    "            count -= 5\n",
    "        \n",
    "        else:\n",
    "            break\n"
   ]
  },
  {
   "cell_type": "code",
   "execution_count": 5,
   "metadata": {},
   "outputs": [],
   "source": [
    "# Setting parameters\n",
    "batch_size = 32\n",
    "img_height = 450\n",
    "img_width = 450\n",
    "epochs = 20"
   ]
  },
  {
   "cell_type": "code",
   "execution_count": 6,
   "metadata": {},
   "outputs": [
    {
     "name": "stdout",
     "output_type": "stream",
     "text": [
      "Found 6866 files belonging to 2 classes.\n"
     ]
    }
   ],
   "source": [
    "# Converting data directory to a training set\n",
    "train_ds = tf.keras.preprocessing.image_dataset_from_directory(\n",
    "    train_dir,\n",
    "    shuffle=True,\n",
    "    labels='inferred',\n",
    "    color_mode='grayscale',\n",
    "    seed=123,\n",
    "    label_mode='binary',\n",
    "    image_size=(img_height, img_width),\n",
    "    batch_size=batch_size)"
   ]
  },
  {
   "cell_type": "code",
   "execution_count": 7,
   "metadata": {},
   "outputs": [
    {
     "name": "stdout",
     "output_type": "stream",
     "text": [
      "Found 840 files belonging to 2 classes.\n"
     ]
    }
   ],
   "source": [
    "# Converting data directory to a validation set\n",
    "val_ds = tf.keras.preprocessing.image_dataset_from_directory(\n",
    "    val_dir,\n",
    "    shuffle=True,\n",
    "    labels='inferred',\n",
    "    color_mode='grayscale',\n",
    "    seed=123,\n",
    "    label_mode='binary',\n",
    "    image_size=(img_height, img_width),\n",
    "    batch_size=batch_size)"
   ]
  },
  {
   "cell_type": "code",
   "execution_count": 8,
   "metadata": {},
   "outputs": [
    {
     "name": "stdout",
     "output_type": "stream",
     "text": [
      "Found 840 files belonging to 2 classes.\n"
     ]
    }
   ],
   "source": [
    "# Converting data directory to a test set\n",
    "test_ds = tf.keras.preprocessing.image_dataset_from_directory(\n",
    "    test_dir,\n",
    "    shuffle=True,\n",
    "    labels='inferred',\n",
    "    color_mode='grayscale',\n",
    "    seed=123,\n",
    "    label_mode='binary',\n",
    "    image_size=(img_height, img_width),\n",
    "    batch_size=batch_size)"
   ]
  },
  {
   "cell_type": "code",
   "execution_count": 9,
   "metadata": {},
   "outputs": [
    {
     "name": "stdout",
     "output_type": "stream",
     "text": [
      "['NORMAL', 'PNEUMONIA']\n"
     ]
    }
   ],
   "source": [
    "# Getting class names\n",
    "class_names = train_ds.class_names\n",
    "print(class_names)"
   ]
  },
  {
   "cell_type": "code",
   "execution_count": 10,
   "metadata": {},
   "outputs": [
    {
     "name": "stdout",
     "output_type": "stream",
     "text": [
      "WARNING:tensorflow:From /usr/local/lib/python3.10/dist-packages/tensorflow/python/autograph/pyct/static_analysis/liveness.py:83: Analyzer.lamba_check (from tensorflow.python.autograph.pyct.static_analysis.liveness) is deprecated and will be removed after 2023-09-23.\n",
      "Instructions for updating:\n",
      "Lambda fuctions will be no more assumed to be used in the statement where they are used, or at least in the same block. https://github.com/tensorflow/tensorflow/issues/56089\n"
     ]
    }
   ],
   "source": [
    "rescale = tf.keras.layers.experimental.preprocessing.Rescaling(scale=1.0/255)\n",
    "train_ds = train_ds.map(lambda image,label:(rescale(image),label))\n",
    "val_ds = val_ds.map(lambda image,label:(rescale(image),label))\n",
    "test_ds  = test_ds.map(lambda image,label:(rescale(image),label))"
   ]
  },
  {
   "cell_type": "code",
   "execution_count": 11,
   "metadata": {},
   "outputs": [],
   "source": [
    "\n",
    "# Structuring the model\n",
    "num_classes = len(class_names)\n",
    "\n",
    "callback = [tf.keras.callbacks.EarlyStopping(monitor='loss', min_delta=0.001, patience=1, verbose=1, restore_best_weights=True),\n",
    "            tf.keras.callbacks.ModelCheckpoint(f\"{save_dir}/pneumonia_{epochs}e_binary_801010.h5\")]\n",
    "model = keras.models.Sequential()\n",
    "# model.add(layers.experimental.preprocessing.Rescaling(1./255))\n",
    "model.add(layers.Conv2D(32,3, activation='relu', input_shape=(img_width,img_height,1)))\n",
    "model.add(layers.MaxPool2D())\n",
    "\n",
    "model.add(layers.Conv2D(64,3, activation='relu', input_shape=(img_width,img_height,1)))\n",
    "model.add(layers.MaxPool2D())\n",
    "\n",
    "model.add(layers.Conv2D(128,3, activation='relu', input_shape=(img_width,img_height,1)))\n",
    "model.add(layers.MaxPool2D())\n",
    "\n",
    "model.add(layers.Conv2D(128,3, activation='relu', input_shape=(img_width,img_height,1)))\n",
    "model.add(layers.MaxPool2D())\n",
    "# model.add(layers.Dropout(0.2))\n",
    "model.add(layers.Flatten())\n",
    "model.add(layers.Dense(128, activation='relu'))\n",
    "\n",
    "# model.add(layers.BatchNormalization())\n",
    "model.add(layers.Dense(1, activation='sigmoid'))\n",
    "# model.add(layers.Dense(num_classes))"
   ]
  },
  {
   "cell_type": "code",
   "execution_count": 12,
   "metadata": {},
   "outputs": [],
   "source": [
    "model.compile(\n",
    "              optimizer='adam',\n",
    "              loss=tf.keras.losses.BinaryCrossentropy(),\n",
    "              metrics=['accuracy'])"
   ]
  },
  {
   "cell_type": "code",
   "execution_count": 13,
   "metadata": {},
   "outputs": [
    {
     "name": "stdout",
     "output_type": "stream",
     "text": [
      "Epoch 1/20\n",
      "215/215 [==============================] - 3349s 16s/step - loss: 0.2347 - accuracy: 0.8998 - val_loss: 0.2514 - val_accuracy: 0.9012\n",
      "Epoch 2/20\n",
      "215/215 [==============================] - 3320s 15s/step - loss: 0.1004 - accuracy: 0.9626 - val_loss: 0.2161 - val_accuracy: 0.9333\n",
      "Epoch 3/20\n",
      "215/215 [==============================] - 3295s 15s/step - loss: 0.0819 - accuracy: 0.9715 - val_loss: 0.1220 - val_accuracy: 0.9512\n",
      "Epoch 4/20\n",
      "215/215 [==============================] - 3279s 15s/step - loss: 0.0592 - accuracy: 0.9779 - val_loss: 0.1062 - val_accuracy: 0.9667\n",
      "Epoch 5/20\n",
      "215/215 [==============================] - 3280s 15s/step - loss: 0.0519 - accuracy: 0.9816 - val_loss: 0.1925 - val_accuracy: 0.9476\n",
      "Epoch 6/20\n",
      "215/215 [==============================] - 3274s 15s/step - loss: 0.0417 - accuracy: 0.9859 - val_loss: 0.2798 - val_accuracy: 0.9381\n",
      "Epoch 7/20\n",
      "215/215 [==============================] - 3269s 15s/step - loss: 0.0336 - accuracy: 0.9866 - val_loss: 0.2184 - val_accuracy: 0.9476\n",
      "Epoch 8/20\n",
      "215/215 [==============================] - 3262s 15s/step - loss: 0.0257 - accuracy: 0.9905 - val_loss: 0.2152 - val_accuracy: 0.9512\n",
      "Epoch 9/20\n",
      "215/215 [==============================] - 3240s 15s/step - loss: 0.0119 - accuracy: 0.9955 - val_loss: 0.1498 - val_accuracy: 0.9738\n",
      "Epoch 10/20\n",
      "215/215 [==============================] - ETA: 0s - loss: 0.0145 - accuracy: 0.9949 Restoring model weights from the end of the best epoch: 9.\n",
      "215/215 [==============================] - 3222s 15s/step - loss: 0.0145 - accuracy: 0.9949 - val_loss: 0.1633 - val_accuracy: 0.9750\n",
      "Epoch 10: early stopping\n"
     ]
    }
   ],
   "source": [
    "# Fitting the model\n",
    "history = model.fit(\n",
    "                    train_ds,\n",
    "                    validation_data=val_ds,\n",
    "                    epochs=epochs,\n",
    "                    callbacks=[callback])"
   ]
  },
  {
   "cell_type": "code",
   "execution_count": 14,
   "metadata": {},
   "outputs": [
    {
     "name": "stdout",
     "output_type": "stream",
     "text": [
      "Model: \"sequential\"\n",
      "_________________________________________________________________\n",
      " Layer (type)                Output Shape              Param #   \n",
      "=================================================================\n",
      " conv2d (Conv2D)             (None, 448, 448, 32)      320       \n",
      "                                                                 \n",
      " max_pooling2d (MaxPooling2D  (None, 224, 224, 32)     0         \n",
      " )                                                               \n",
      "                                                                 \n",
      " conv2d_1 (Conv2D)           (None, 222, 222, 64)      18496     \n",
      "                                                                 \n",
      " max_pooling2d_1 (MaxPooling  (None, 111, 111, 64)     0         \n",
      " 2D)                                                             \n",
      "                                                                 \n",
      " conv2d_2 (Conv2D)           (None, 109, 109, 128)     73856     \n",
      "                                                                 \n",
      " max_pooling2d_2 (MaxPooling  (None, 54, 54, 128)      0         \n",
      " 2D)                                                             \n",
      "                                                                 \n",
      " conv2d_3 (Conv2D)           (None, 52, 52, 128)       147584    \n",
      "                                                                 \n",
      " max_pooling2d_3 (MaxPooling  (None, 26, 26, 128)      0         \n",
      " 2D)                                                             \n",
      "                                                                 \n",
      " flatten (Flatten)           (None, 86528)             0         \n",
      "                                                                 \n",
      " dense (Dense)               (None, 128)               11075712  \n",
      "                                                                 \n",
      " dense_1 (Dense)             (None, 1)                 129       \n",
      "                                                                 \n",
      "=================================================================\n",
      "Total params: 11,316,097\n",
      "Trainable params: 11,316,097\n",
      "Non-trainable params: 0\n",
      "_________________________________________________________________\n"
     ]
    }
   ],
   "source": [
    "model.summary()"
   ]
  },
  {
   "cell_type": "code",
   "execution_count": 15,
   "metadata": {},
   "outputs": [],
   "source": [
    "# Save model\n",
    "# model.save(f\"{save_dir}/pneumonia_{epochs}e_binary_801010.h5\")"
   ]
  },
  {
   "cell_type": "code",
   "execution_count": 16,
   "metadata": {},
   "outputs": [],
   "source": [
    "# Load the model\n",
    "# model = keras.models.load_model(f\"{save_dir}/pneumonia_{epochs}e_binary_801010.h5\")"
   ]
  },
  {
   "cell_type": "code",
   "execution_count": 17,
   "metadata": {},
   "outputs": [
    {
     "name": "stdout",
     "output_type": "stream",
     "text": [
      "27/27 [==============================] - 116s 4s/step - loss: 1.1778 - accuracy: 0.8702\n",
      "loss :  1.1778048276901245\n",
      "accuracy :  0.8702380657196045\n"
     ]
    }
   ],
   "source": [
    "# Model evaluation\n",
    "score_test = model.evaluate(test_ds)\n",
    "\n",
    "for name, value in zip(model.metrics_names, score_test):\n",
    "    print(name, ': ', value)"
   ]
  },
  {
   "cell_type": "code",
   "execution_count": 18,
   "metadata": {},
   "outputs": [
    {
     "name": "stdout",
     "output_type": "stream",
     "text": [
      "1/1 [==============================] - 4s 4s/step\n",
      "1/1 [==============================] - 4s 4s/step\n",
      "1/1 [==============================] - 4s 4s/step\n",
      "1/1 [==============================] - 4s 4s/step\n",
      "1/1 [==============================] - 4s 4s/step\n",
      "1/1 [==============================] - 4s 4s/step\n",
      "1/1 [==============================] - 4s 4s/step\n",
      "1/1 [==============================] - 4s 4s/step\n",
      "1/1 [==============================] - 4s 4s/step\n",
      "1/1 [==============================] - 4s 4s/step\n",
      "1/1 [==============================] - 4s 4s/step\n",
      "1/1 [==============================] - 4s 4s/step\n",
      "1/1 [==============================] - 4s 4s/step\n",
      "1/1 [==============================] - 4s 4s/step\n",
      "1/1 [==============================] - 4s 4s/step\n",
      "1/1 [==============================] - 4s 4s/step\n",
      "1/1 [==============================] - 4s 4s/step\n",
      "1/1 [==============================] - 4s 4s/step\n",
      "1/1 [==============================] - 4s 4s/step\n",
      "1/1 [==============================] - 4s 4s/step\n",
      "1/1 [==============================] - 4s 4s/step\n",
      "1/1 [==============================] - 4s 4s/step\n",
      "1/1 [==============================] - 4s 4s/step\n",
      "1/1 [==============================] - 4s 4s/step\n",
      "1/1 [==============================] - 4s 4s/step\n",
      "1/1 [==============================] - 4s 4s/step\n",
      "1/1 [==============================] - 1s 1s/step\n"
     ]
    }
   ],
   "source": [
    "# Getting x and y from the test set\n",
    "test_preds = []\n",
    "x_test = []\n",
    "y_test = []\n",
    "for x,y in test_ds:\n",
    "    x_test.extend(x)\n",
    "\n",
    "    test_pred = model.predict(x)\n",
    "    test_preds.extend(test_pred)\n",
    "    y_test.extend(y)\n",
    "\n",
    "# Convert list to array\n",
    "x_test = np.array(x_test)\n",
    "preds = np.array(test_preds)\n",
    "y_pred = np.where(preds > 0.5, 1, 0)\n",
    "y_test = np.array(y_test)"
   ]
  },
  {
   "cell_type": "code",
   "execution_count": 19,
   "metadata": {},
   "outputs": [
    {
     "name": "stdout",
     "output_type": "stream",
     "text": [
      "Accuracy of the model is 87.02\n",
      "Recall of the model is 0.97\n",
      "Precision of the model is 0.81\n",
      "F1-score of the model is 0.88\n",
      "TN: 322, FP: 98, FN: 11, TP: 409\n"
     ]
    }
   ],
   "source": [
    "# Assessing model performance using confusion matrix\n",
    "from sklearn.metrics import confusion_matrix, roc_curve, auc, accuracy_score\n",
    "\n",
    "cm  = confusion_matrix(y_test, y_pred)\n",
    "tn, fp, fn, tp = cm.ravel()\n",
    "\n",
    "accuracy = accuracy_score(y_test, y_pred) * 100\n",
    "precision = tp/(tp+fp)\n",
    "recall = tp/(tp+fn)\n",
    "f1 = 2*((precision * recall)/(precision + recall))\n",
    "\n",
    "print(\"Accuracy of the model is {:.2f}\".format(accuracy))\n",
    "print(\"Recall of the model is {:.2f}\".format(recall))\n",
    "print(\"Precision of the model is {:.2f}\".format(precision))\n",
    "print(\"F1-score of the model is {:.2f}\".format(f1))\n",
    "print(f\"TN: {tn}, FP: {fp}, FN: {fn}, TP: {tp}\")"
   ]
  },
  {
   "cell_type": "code",
   "execution_count": 20,
   "metadata": {},
   "outputs": [
    {
     "name": "stdout",
     "output_type": "stream",
     "text": [
      "              precision    recall  f1-score   support\n",
      "\n",
      "         0.0       0.97      0.77      0.86       420\n",
      "         1.0       0.81      0.97      0.88       420\n",
      "\n",
      "    accuracy                           0.87       840\n",
      "   macro avg       0.89      0.87      0.87       840\n",
      "weighted avg       0.89      0.87      0.87       840\n",
      "\n"
     ]
    }
   ],
   "source": [
    "from sklearn.metrics import classification_report\n",
    "print(classification_report(y_test, y_pred))"
   ]
  },
  {
   "cell_type": "code",
   "execution_count": 22,
   "metadata": {},
   "outputs": [
    {
     "name": "stdout",
     "output_type": "stream",
     "text": [
      "(450, 450, 1)\n",
      "(1, 450, 450, 1)\n",
      "1/1 [==============================] - 0s 245ms/step\n",
      "[1.]\n",
      "[1]\n",
      "This image is 0.00 percent normal and 100.00 percent pneumonia.\n"
     ]
    }
   ],
   "source": [
    "# Predict\n",
    "# E:\\Downloads\\chest pneumonia.jpg\n",
    "img = keras.preprocessing.image.load_img(r\"/mnt/E/datasets/pneumonia_kaggle/test/PNEUMONIA/person55_bacteria_260.jpeg\",\n",
    "                                         target_size=(img_width, img_height),\n",
    "                                         color_mode='grayscale')\n",
    "img_array = keras.preprocessing.image.img_to_array(img)\n",
    "print(img_array.shape)\n",
    "img_array = tf.expand_dims(img_array, 0)  # Create batch axis\n",
    "print(img_array.shape)\n",
    "predictions = model.predict(img_array)\n",
    "score = predictions[0]\n",
    "print(score)\n",
    "tmp_pred = np.where(score > 0.5, 1, 0)\n",
    "print(tmp_pred)\n",
    "print(\"This image is %.2f percent normal and %.2f percent pneumonia.\" % (100 * (1 - score), 100 * score))"
   ]
  },
  {
   "cell_type": "code",
   "execution_count": 23,
   "metadata": {},
   "outputs": [
    {
     "name": "stdout",
     "output_type": "stream",
     "text": [
      "0.8702380952380953\n"
     ]
    }
   ],
   "source": [
    "from sklearn.metrics import roc_curve\n",
    "from sklearn.metrics import roc_auc_score\n",
    "\n",
    "\n",
    "# roc curve for models\n",
    "fpr, tpr, thresh = roc_curve(y_test, y_pred, pos_label=1)\n",
    "\n",
    "# roc curve for tpr = fpr \n",
    "random_probs = [0 for i in range(len(y_test))]\n",
    "p_fpr, p_tpr, _ = roc_curve(y_test, random_probs, pos_label=1)\n",
    "\n",
    "# auc scores\n",
    "auc_score1 = roc_auc_score(y_test, y_pred)\n",
    "\n",
    "print(auc_score1)"
   ]
  },
  {
   "cell_type": "code",
   "execution_count": 24,
   "metadata": {},
   "outputs": [
    {
     "name": "stderr",
     "output_type": "stream",
     "text": [
      "/tmp/ipykernel_24955/3656010033.py:2: MatplotlibDeprecationWarning: The seaborn styles shipped by Matplotlib are deprecated since 3.6, as they no longer correspond to the styles shipped by seaborn. However, they will remain available as 'seaborn-v0_8-<style>'. Alternatively, directly use the seaborn API instead.\n",
      "  plt.style.use('seaborn')\n"
     ]
    },
    {
     "data": {
      "image/png": "[encoded data removed]",
      "text/plain": [
       "<Figure size 800x550 with 1 Axes>"
      ]
     },
     "metadata": {},
     "output_type": "display_data"
    }
   ],
   "source": [
    "import matplotlib.pyplot as plt\n",
    "plt.style.use('seaborn')\n",
    "\n",
    "# plot roc curves\n",
    "plt.plot(fpr, tpr, linestyle='--',color='orange', label='VGG-16 CNN')\n",
    "plt.plot(p_fpr, p_tpr, linestyle='--', color='blue')\n",
    "# title\n",
    "plt.title('ROC curve')\n",
    "# x label\n",
    "plt.xlabel('False Positive Rate')\n",
    "# y label\n",
    "plt.ylabel('True Positive rate')\n",
    "\n",
    "plt.legend(loc='best')\n",
    "plt.savefig('ROC',dpi=300)\n",
    "plt.show();"
   ]
  }
 ],
 "metadata": {
  "kernelspec": {
   "display_name": "Python 3.10.6 64-bit",
   "language": "python",
   "name": "python3"
  },
  "language_info": {
   "codemirror_mode": {
    "name": "ipython",
    "version": 3
   },
   "file_extension": ".py",
   "mimetype": "text/x-python",
   "name": "python",
   "nbconvert_exporter": "python",
   "pygments_lexer": "ipython3",
   "version": "3.10.6"
  },
  "orig_nbformat": 4,
  "vscode": {
   "interpreter": {
    "hash": "916dbcbb3f70747c44a77c7bcd40155683ae19c65e1c03b4aa3499c5328201f1"
   }
  }
 },
 "nbformat": 4,
 "nbformat_minor": 2
}
