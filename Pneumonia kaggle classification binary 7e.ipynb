{
 "cells": [
  {
   "cell_type": "code",
   "execution_count": 131,
   "metadata": {},
   "outputs": [],
   "source": [
    "import tensorflow as tf\n",
    "from tensorflow import keras\n",
    "from tensorflow.keras import layers\n",
    "import numpy as np\n",
    "import matplotlib.pyplot as plt\n",
    "import os\n",
    "tf.__version__\n",
    "tf.random.set_seed(123)"
   ]
  },
  {
   "cell_type": "code",
   "execution_count": 132,
   "metadata": {},
   "outputs": [],
   "source": [
    "# Adding data paths\n",
    "parent_dir = r'E:\\datasets\\pneumonia_kaggle'\n",
    "train_dir = os.path.join(parent_dir,'train')\n",
    "test_dir = os.path.join(parent_dir,'test')\n",
    "val_dir = os.path.join(parent_dir,'val')\n",
    "save_dir = r'D:\\Projects\\Pneumonia Kaggle\\model'"
   ]
  },
  {
   "cell_type": "code",
   "execution_count": 133,
   "metadata": {},
   "outputs": [],
   "source": [
    "# Setting parameters\n",
    "batch_size = 32\n",
    "img_height = 450\n",
    "img_width = 450\n",
    "epochs = 7"
   ]
  },
  {
   "cell_type": "code",
   "execution_count": 134,
   "metadata": {},
   "outputs": [
    {
     "name": "stdout",
     "output_type": "stream",
     "text": [
      "Found 5216 files belonging to 2 classes.\n"
     ]
    }
   ],
   "source": [
    "# Converting data directory to a training set\n",
    "train_ds = tf.keras.preprocessing.image_dataset_from_directory(\n",
    "    train_dir,\n",
    "    shuffle=True,\n",
    "    labels='inferred',\n",
    "    color_mode='grayscale',\n",
    "    seed=123,\n",
    "    label_mode='binary',\n",
    "    image_size=(img_height, img_width),\n",
    "    batch_size=batch_size)"
   ]
  },
  {
   "cell_type": "code",
   "execution_count": 135,
   "metadata": {},
   "outputs": [
    {
     "name": "stdout",
     "output_type": "stream",
     "text": [
      "Found 16 files belonging to 2 classes.\n"
     ]
    }
   ],
   "source": [
    "# Converting data directory to a validation set\n",
    "val_ds = tf.keras.preprocessing.image_dataset_from_directory(\n",
    "    val_dir,\n",
    "    shuffle=True,\n",
    "    labels='inferred',\n",
    "    color_mode='grayscale',\n",
    "    seed=123,\n",
    "    label_mode='binary',\n",
    "    image_size=(img_height, img_width),\n",
    "    batch_size=batch_size)"
   ]
  },
  {
   "cell_type": "code",
   "execution_count": 136,
   "metadata": {},
   "outputs": [
    {
     "name": "stdout",
     "output_type": "stream",
     "text": [
      "Found 624 files belonging to 2 classes.\n"
     ]
    }
   ],
   "source": [
    "# Converting data directory to a test set\n",
    "test_ds = tf.keras.preprocessing.image_dataset_from_directory(\n",
    "    test_dir,\n",
    "    labels='inferred',\n",
    "    color_mode='grayscale',\n",
    "    seed=123,\n",
    "    label_mode='binary',\n",
    "    image_size=(img_height, img_width))"
   ]
  },
  {
   "cell_type": "code",
   "execution_count": 137,
   "metadata": {},
   "outputs": [
    {
     "name": "stdout",
     "output_type": "stream",
     "text": [
      "['NORMAL', 'PNEUMONIA']\n"
     ]
    }
   ],
   "source": [
    "# Getting class names\n",
    "class_names = train_ds.class_names\n",
    "print(class_names)"
   ]
  },
  {
   "cell_type": "code",
   "execution_count": 138,
   "metadata": {},
   "outputs": [
    {
     "name": "stdout",
     "output_type": "stream",
     "text": [
      "0.004275114 0.832807\n"
     ]
    }
   ],
   "source": [
    "# Normalizing colors\n",
    "normalization_layer = tf.keras.layers.experimental.preprocessing.Rescaling(1./255)\n",
    "normalized_ds = train_ds.map(lambda x, y: (normalization_layer(x), y))\n",
    "image_batch, labels_batch = next(iter(normalized_ds))\n",
    "first_image = image_batch[0]\n",
    "print(np.min(first_image), np.max(first_image))"
   ]
  },
  {
   "cell_type": "code",
   "execution_count": 145,
   "metadata": {},
   "outputs": [],
   "source": [
    "# Structuring the model\n",
    "num_classes = len(class_names)\n",
    "\n",
    "callback = [tf.keras.callbacks.EarlyStopping(monitor='loss', min_delta=0.001, patience=1, verbose=1, restore_best_weights=True),\n",
    "            tf.keras.callbacks.ModelCheckpoint(r'{}\\pneumonia_7e_binary_gray.h5'.format(save_dir))]\n",
    "model = keras.models.Sequential()\n",
    "model.add(layers.experimental.preprocessing.Rescaling(1./255))\n",
    "model.add(layers.Conv2D(32,3, activation='relu', input_shape=(img_width,img_height,1)))\n",
    "model.add(layers.MaxPool2D())\n",
    "model.add(layers.Conv2D(32,3,activation='relu'))\n",
    "model.add(layers.MaxPool2D())\n",
    "model.add(layers.Flatten())\n",
    "model.add(layers.Dense(1, activation='sigmoid'))\n",
    "# model.add(layers.Dense(num_classes))"
   ]
  },
  {
   "cell_type": "code",
   "execution_count": 146,
   "metadata": {},
   "outputs": [],
   "source": [
    "model.compile(\n",
    "              optimizer='adam',\n",
    "              loss=tf.keras.losses.BinaryCrossentropy(),\n",
    "              metrics=['accuracy'])"
   ]
  },
  {
   "cell_type": "code",
   "execution_count": 147,
   "metadata": {},
   "outputs": [
    {
     "name": "stdout",
     "output_type": "stream",
     "text": [
      "Epoch 1/7\n",
      "163/163 [==============================] - 1187s 7s/step - loss: 0.5042 - accuracy: 0.8089 - val_loss: 0.4318 - val_accuracy: 0.6875\n",
      "Epoch 2/7\n",
      "163/163 [==============================] - 1227s 7s/step - loss: 0.0923 - accuracy: 0.9656 - val_loss: 0.1234 - val_accuracy: 0.9375\n",
      "Epoch 3/7\n",
      "163/163 [==============================] - 1208s 7s/step - loss: 0.0610 - accuracy: 0.9777 - val_loss: 0.0857 - val_accuracy: 1.0000\n",
      "Epoch 4/7\n",
      "163/163 [==============================] - 1135s 7s/step - loss: 0.0408 - accuracy: 0.9882 - val_loss: 0.0428 - val_accuracy: 1.0000\n",
      "Epoch 5/7\n",
      "163/163 [==============================] - 1140s 7s/step - loss: 0.0293 - accuracy: 0.9884 - val_loss: 0.1209 - val_accuracy: 0.8750\n",
      "Epoch 6/7\n",
      "163/163 [==============================] - 1147s 7s/step - loss: 0.0130 - accuracy: 0.9974 - val_loss: 0.1287 - val_accuracy: 0.9375\n",
      "Epoch 7/7\n",
      "163/163 [==============================] - 1112s 7s/step - loss: 0.0101 - accuracy: 0.9964 - val_loss: 0.0425 - val_accuracy: 1.0000\n"
     ]
    }
   ],
   "source": [
    "# Fitting the model\n",
    "history = model.fit(\n",
    "                    train_ds,\n",
    "                    validation_data=val_ds,\n",
    "                    epochs=epochs,\n",
    "                    callbacks=[callback])"
   ]
  },
  {
   "cell_type": "code",
   "execution_count": 149,
   "metadata": {},
   "outputs": [
    {
     "name": "stdout",
     "output_type": "stream",
     "text": [
      "Model: \"sequential_5\"\n",
      "_________________________________________________________________\n",
      "Layer (type)                 Output Shape              Param #   \n",
      "=================================================================\n",
      "rescaling_12 (Rescaling)     (None, 450, 450, 1)       0         \n",
      "_________________________________________________________________\n",
      "conv2d_10 (Conv2D)           (None, 448, 448, 32)      320       \n",
      "_________________________________________________________________\n",
      "max_pooling2d_10 (MaxPooling (None, 224, 224, 32)      0         \n",
      "_________________________________________________________________\n",
      "conv2d_11 (Conv2D)           (None, 222, 222, 32)      9248      \n",
      "_________________________________________________________________\n",
      "max_pooling2d_11 (MaxPooling (None, 111, 111, 32)      0         \n",
      "_________________________________________________________________\n",
      "flatten_5 (Flatten)          (None, 394272)            0         \n",
      "_________________________________________________________________\n",
      "dense_5 (Dense)              (None, 1)                 394273    \n",
      "=================================================================\n",
      "Total params: 403,841\n",
      "Trainable params: 403,841\n",
      "Non-trainable params: 0\n",
      "_________________________________________________________________\n"
     ]
    }
   ],
   "source": [
    "model.summary()"
   ]
  },
  {
   "cell_type": "code",
   "execution_count": 150,
   "metadata": {},
   "outputs": [
    {
     "data": {
      "image/png": "[encoded data removed]",
      "text/plain": [
       "<Figure size 576x576 with 2 Axes>"
      ]
     },
     "metadata": {
      "needs_background": "light"
     },
     "output_type": "display_data"
    }
   ],
   "source": [
    "# Plotting model performance\n",
    "acc = history.history['accuracy']\n",
    "val_acc = history.history['val_accuracy']\n",
    "\n",
    "loss = history.history['loss']\n",
    "val_loss = history.history['val_loss']\n",
    "\n",
    "epochs_range = range(epochs)\n",
    "\n",
    "plt.figure(figsize=(8, 8))\n",
    "plt.subplot(1, 2, 1)\n",
    "plt.plot(epochs_range, acc, label='Training Accuracy')\n",
    "plt.plot(epochs_range, val_acc, label='Validation Accuracy')\n",
    "plt.legend(loc='lower right')\n",
    "plt.title('Training and Validation Accuracy')\n",
    "\n",
    "plt.subplot(1, 2, 2)\n",
    "plt.plot(epochs_range, loss, label='Training Loss')\n",
    "plt.plot(epochs_range, val_loss, label='Validation Loss')\n",
    "plt.legend(loc='upper right')\n",
    "plt.title('Training and Validation Loss')\n",
    "plt.show()"
   ]
  },
  {
   "cell_type": "code",
   "execution_count": 148,
   "metadata": {},
   "outputs": [],
   "source": [
    "# Save model\n",
    "model.save('{}\\pneumonia_7e_all_binary_gray.h5'.format(save_dir))"
   ]
  },
  {
   "cell_type": "code",
   "execution_count": 151,
   "metadata": {},
   "outputs": [],
   "source": [
    "# model = keras.models.load_model('{}\\pneumonia_5e_binary_gray.h5'.format(save_dir))"
   ]
  },
  {
   "cell_type": "code",
   "execution_count": 89,
   "metadata": {},
   "outputs": [],
   "source": [
    "# Normalizing test colors\n",
    "normalization_test_layer = tf.keras.layers.experimental.preprocessing.Rescaling(1./255)\n",
    "normalized_test_ds = test_ds.map(lambda x, y: (normalization_test_layer(x), y))\n",
    "# image_test_batch, labels_test_batch = next(iter(normalized_test_ds))\n",
    "# first_test_image = image_test_batch[0]\n",
    "# print(np.min(first_test_image), np.max(first_test_image))"
   ]
  },
  {
   "cell_type": "code",
   "execution_count": 152,
   "metadata": {},
   "outputs": [],
   "source": [
    "# Getting x and y from the test set\n",
    "test_preds = []\n",
    "y_test = []\n",
    "for x,y in normalized_test_ds:\n",
    "    test_pred = model.predict(x)\n",
    "    # x_test.append(x)\n",
    "    # y_test.append(y)\n",
    "    test_preds.extend(test_pred)\n",
    "    y_test.extend(y)\n",
    "\n",
    "preds = np.array(test_preds)\n",
    "y_pred = np.where(preds > 0.5, 1, 0)\n",
    "y_test = np.array(y_test)"
   ]
  },
  {
   "cell_type": "code",
   "execution_count": 153,
   "metadata": {},
   "outputs": [
    {
     "name": "stdout",
     "output_type": "stream",
     "text": [
      "Recall of the model is 1.00\n",
      "Precision of the model is 0.62\n",
      "F1-score of the model is 0.77\n"
     ]
    }
   ],
   "source": [
    "# Assessing model performance using confusion matrix\n",
    "from sklearn.metrics import confusion_matrix\n",
    "\n",
    "cm  = confusion_matrix(y_test, y_pred)\n",
    "tn, fp, fn, tp = cm.ravel()\n",
    "\n",
    "precision = tp/(tp+fp)\n",
    "recall = tp/(tp+fn)\n",
    "f1 = 2*((precision * recall)/(precision + recall))\n",
    "\n",
    "print(\"Recall of the model is {:.2f}\".format(recall))\n",
    "print(\"Precision of the model is {:.2f}\".format(precision))\n",
    "print(\"F1-score of the model is {:.2f}\".format(f1))"
   ]
  },
  {
   "cell_type": "code",
   "execution_count": 154,
   "metadata": {},
   "outputs": [
    {
     "name": "stdout",
     "output_type": "stream",
     "text": [
      "(450, 450, 1)\n",
      "(1, 450, 450, 1)\n",
      "This image is 0.49 percent normal and 99.51 percent pneumonia.\n"
     ]
    }
   ],
   "source": [
    "# Predict\n",
    "# E:\\Downloads\\chest pneumonia.jpg\n",
    "img = keras.preprocessing.image.load_img(r\"E:\\datasets\\pneumonia_kaggle\\test\\NORMAL\\IM-0063-0001.jpeg\",\n",
    "                                         target_size=(img_width, img_height),\n",
    "                                         color_mode='grayscale')\n",
    "img_array = keras.preprocessing.image.img_to_array(img)\n",
    "print(img_array.shape)\n",
    "img_array = tf.expand_dims(img_array, 0)  # Create batch axis\n",
    "print(img_array.shape)\n",
    "predictions = model.predict(img_array)\n",
    "score = predictions[0]\n",
    "print(\"This image is %.2f percent normal and %.2f percent pneumonia.\" % (100 * (1 - score), 100 * score))"
   ]
  },
  {
   "cell_type": "markdown",
   "metadata": {},
   "source": [
    "This means that the model overfits the data."
   ]
  }
 ],
 "metadata": {
  "kernelspec": {
   "display_name": "Python 3.8.3 ('base')",
   "language": "python",
   "name": "python3"
  },
  "language_info": {
   "codemirror_mode": {
    "name": "ipython",
    "version": 3
   },
   "file_extension": ".py",
   "mimetype": "text/x-python",
   "name": "python",
   "nbconvert_exporter": "python",
   "pygments_lexer": "ipython3",
   "version": "3.8.3"
  },
  "orig_nbformat": 4,
  "vscode": {
   "interpreter": {
    "hash": "ad2bdc8ecc057115af97d19610ffacc2b4e99fae6737bb82f5d7fb13d2f2c186"
   }
  }
 },
 "nbformat": 4,
 "nbformat_minor": 2
}
